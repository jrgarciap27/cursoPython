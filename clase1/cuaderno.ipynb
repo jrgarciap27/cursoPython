{
 "cells": [
  {
   "cell_type": "markdown",
   "id": "589be938",
   "metadata": {},
   "source": [
    "<b>Título</b>"
   ]
  },
  {
   "cell_type": "code",
   "execution_count": null,
   "id": "6b771e59",
   "metadata": {},
   "outputs": [],
   "source": [
    "ls"
   ]
  },
  {
   "cell_type": "code",
   "execution_count": 2,
   "id": "69b23c07",
   "metadata": {
    "scrolled": false
   },
   "outputs": [
    {
     "name": "stdout",
     "output_type": "stream",
     "text": [
      " El volumen de la unidad D es Datos\n",
      " El n£mero de serie del volumen es: 60C7-53A9\n",
      "\n",
      " Directorio de D:\\cursos\\python\\cursoPython\\clase1\n",
      "\n",
      "30/11/2021  09:53    <DIR>          .\n",
      "30/11/2021  09:53    <DIR>          ..\n",
      "30/11/2021  09:50    <DIR>          .ipynb_checkpoints\n",
      "29/11/2021  12:19    <DIR>          __pycache__\n",
      "29/11/2021  12:30    <DIR>          build\n",
      "30/11/2021  09:53             2.928 cuaderno.ipynb\n",
      "29/11/2021  12:30    <DIR>          dist\n",
      "29/11/2021  12:08                85 hola.py\n",
      "29/11/2021  12:30             1.161 hola.spec\n",
      "30/11/2021  09:47                 0 untitled.txt\n",
      "               4 archivos          4.174 bytes\n",
      "               6 dirs  273.250.230.272 bytes libres\n"
     ]
    }
   ],
   "source": []
  },
  {
   "cell_type": "markdown",
   "id": "fe90725b",
   "metadata": {},
   "source": [
    "eeeee\n"
   ]
  },
  {
   "cell_type": "code",
   "execution_count": 3,
   "id": "5a1f99bb",
   "metadata": {},
   "outputs": [
    {
     "name": "stdout",
     "output_type": "stream",
     "text": [
      " El volumen de la unidad D es Datos\n",
      " El n£mero de serie del volumen es: 60C7-53A9\n",
      "\n",
      " Directorio de D:\\cursos\\python\\cursoPython\\clase1\n",
      "\n",
      "30/11/2021  09:57    <DIR>          .\n",
      "30/11/2021  09:57    <DIR>          ..\n",
      "30/11/2021  09:50    <DIR>          .ipynb_checkpoints\n",
      "29/11/2021  12:19    <DIR>          __pycache__\n",
      "29/11/2021  12:30    <DIR>          build\n",
      "30/11/2021  09:57             2.093 cuaderno.ipynb\n",
      "29/11/2021  12:30    <DIR>          dist\n",
      "29/11/2021  12:08                85 hola.py\n",
      "29/11/2021  12:30             1.161 hola.spec\n",
      "30/11/2021  09:47                 0 untitled.txt\n",
      "               4 archivos          3.339 bytes\n",
      "               6 dirs  273.250.230.272 bytes libres\n"
     ]
    }
   ],
   "source": [
    "ls"
   ]
  },
  {
   "cell_type": "code",
   "execution_count": null,
   "id": "7d2b9949",
   "metadata": {},
   "outputs": [],
   "source": []
  }
 ],
 "metadata": {
  "kernelspec": {
   "display_name": "Python 3 (ipykernel)",
   "language": "python",
   "name": "python3"
  },
  "language_info": {
   "codemirror_mode": {
    "name": "ipython",
    "version": 3
   },
   "file_extension": ".py",
   "mimetype": "text/x-python",
   "name": "python",
   "nbconvert_exporter": "python",
   "pygments_lexer": "ipython3",
   "version": "3.10.0"
  }
 },
 "nbformat": 4,
 "nbformat_minor": 5
}
